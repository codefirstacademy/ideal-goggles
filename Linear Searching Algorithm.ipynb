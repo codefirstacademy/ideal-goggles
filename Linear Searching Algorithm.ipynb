{
 "cells": [
  {
   "cell_type": "code",
   "execution_count": 2,
   "metadata": {},
   "outputs": [
    {
     "name": "stdout",
     "output_type": "stream",
     "text": [
      "Enter the number to be searched77546\n",
      "Number found at  11\n"
     ]
    }
   ],
   "source": [
    "def linearsearch(lst,size,x):\n",
    "    flag=0\n",
    "    for i in range(size):\n",
    "        if lst[i]==x:\n",
    "            flag=1\n",
    "            break;\n",
    "    if flag==1:\n",
    "        print(\"Number found at \",end=' ')\n",
    "        print(i+1)\n",
    "    else:\n",
    "        print(\"Number not found\")\n",
    "\n",
    "        \n",
    "L=[3452,454367,678,53432,54767,978,34523,876,9,96,77546,43]\n",
    "n=int(input(\"Enter the number to be searched\"))\n",
    "a=len(L)\n",
    "linearsearch(L,a,n)"
   ]
  },
  {
   "cell_type": "code",
   "execution_count": 4,
   "metadata": {},
   "outputs": [
    {
     "name": "stdout",
     "output_type": "stream",
     "text": [
      "Enter the number to be searched77546\n",
      "Number found at  11\n"
     ]
    }
   ],
   "source": [
    "def linearsearchrec(lst,left,right,x):\n",
    "    if left>right:\n",
    "        return -1\n",
    "    if lst[left]==x:\n",
    "        return left+1\n",
    "    else:\n",
    "        return linearsearchrec(lst,left+1,right,x)\n",
    "        \n",
    "        \n",
    "        \n",
    "L=[3452,454367,678,53432,54767,978,34523,876,9,96,77546,43]\n",
    "n=int(input(\"Enter the number to be searched\"))\n",
    "a=len(L)\n",
    "b=linearsearchrec(L,0,a-1,n)\n",
    "if b==-1:\n",
    "    print(\"Number not found\")\n",
    "else: \n",
    "    print(\"Number found at \",end=' ')\n",
    "    print(b)\n",
    "\n"
   ]
  },
  {
   "cell_type": "code",
   "execution_count": null,
   "metadata": {},
   "outputs": [],
   "source": [
    "#BinarySearch\n"
   ]
  }
 ],
 "metadata": {
  "kernelspec": {
   "display_name": "Python 3",
   "language": "python",
   "name": "python3"
  },
  "language_info": {
   "codemirror_mode": {
    "name": "ipython",
    "version": 3
   },
   "file_extension": ".py",
   "mimetype": "text/x-python",
   "name": "python",
   "nbconvert_exporter": "python",
   "pygments_lexer": "ipython3",
   "version": "3.7.1"
  }
 },
 "nbformat": 4,
 "nbformat_minor": 2
}
