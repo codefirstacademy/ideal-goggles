{
 "cells": [
  {
   "cell_type": "code",
   "execution_count": 4,
   "metadata": {},
   "outputs": [
    {
     "name": "stdout",
     "output_type": "stream",
     "text": [
      "5\n",
      "[213, 7653, 6543, 76523, 8763]\n"
     ]
    }
   ],
   "source": [
    "L=[213,654,234,7653,567,234,6543,76523,8763]\n",
    "L1=[]\n",
    "count=0\n",
    "i=0\n",
    "while i<len(L):\n",
    "    if L[i]%10==3:\n",
    "        count=count+1\n",
    "        L1.append(L[i])\n",
    "    i=i+1\n",
    "print (count)\n",
    "print(L1)"
   ]
  },
  {
   "cell_type": "code",
   "execution_count": 1,
   "metadata": {},
   "outputs": [
    {
     "name": "stdout",
     "output_type": "stream",
     "text": [
      "[1, 2, 3, 4, 5]\n"
     ]
    }
   ],
   "source": [
    "L=[1,2,3,4,5]\n",
    "print(L)"
   ]
  },
  {
   "cell_type": "code",
   "execution_count": 3,
   "metadata": {},
   "outputs": [
    {
     "name": "stdout",
     "output_type": "stream",
     "text": [
      "Input the Size of List5\n",
      "Enter the number34\n",
      "Enter the number23\n",
      "Enter the number67\n",
      "Enter the number45\n",
      "Enter the number78\n",
      "[34, 23, 67, 45, 78]\n"
     ]
    }
   ],
   "source": [
    "L1=[]\n",
    "n=int(input(\"Input the Size of List\"))\n",
    "for i in range(n):\n",
    "    a=int(input(\"Enter the number\"))\n",
    "    L1.append(a)\n",
    "print(L1)"
   ]
  },
  {
   "cell_type": "code",
   "execution_count": 4,
   "metadata": {},
   "outputs": [
    {
     "name": "stdout",
     "output_type": "stream",
     "text": [
      "5\n"
     ]
    }
   ],
   "source": [
    "L=[213,654,234,7653,567,234,6543,76523,8763]\n",
    "count=0\n",
    "for i in range(0,len(L),1):\n",
    "    if L[i]%10==3:\n",
    "        count+=1\n",
    "print(count)"
   ]
  },
  {
   "cell_type": "code",
   "execution_count": 12,
   "metadata": {},
   "outputs": [
    {
     "name": "stdout",
     "output_type": "stream",
     "text": [
      "Enter the number31\n",
      "[1, 2, 3, 5, 7, 11, 13, 17, 19, 23, 29, 31]\n"
     ]
    }
   ],
   "source": [
    "# write all the prime numbers till a given number and insert them in the list\n",
    "# number=29\n",
    "# L=[1,2,3,5,7,11,13,17,19,23,29]\n",
    "\n",
    "\n",
    "l=[]\n",
    "number=int(input(\"Enter the number\"))\n",
    "for j in range(1,number+1,1):\n",
    "    flag=0\n",
    "    for i in range(2,j,1):\n",
    "        if j%i==0:\n",
    "            flag=1\n",
    "            break\n",
    "    if(flag==0):\n",
    "        l.append(j)\n",
    "print(l)"
   ]
  },
  {
   "cell_type": "code",
   "execution_count": 5,
   "metadata": {},
   "outputs": [
    {
     "name": "stdout",
     "output_type": "stream",
     "text": [
      "Enter the number105\n",
      "[1, 4, 9, 16, 25, 36, 49, 64, 81, 100]\n"
     ]
    }
   ],
   "source": [
    "#Input=105\n",
    "#output= [1,4,9,16,25,36,49,64,81,100]\n",
    "\n",
    "L=[]\n",
    "n=int(input(\"Enter the number\"))\n",
    "i=1\n",
    "while i*i<=n:\n",
    "    L.append(i*i)\n",
    "    i+=1\n",
    "print (L)"
   ]
  },
  {
   "cell_type": "code",
   "execution_count": 6,
   "metadata": {},
   "outputs": [
    {
     "name": "stdout",
     "output_type": "stream",
     "text": [
      "Enter number5\n",
      "25\n",
      "125\n",
      "625\n"
     ]
    }
   ],
   "source": [
    "n=int(input(\"Enter number\"))\n",
    "print(n**2)\n",
    "print(n**3)\n",
    "print(n**4)"
   ]
  },
  {
   "cell_type": "code",
   "execution_count": 5,
   "metadata": {},
   "outputs": [
    {
     "data": {
      "text/plain": [
       "[213, 7653, 6543, 76523, 8763]"
      ]
     },
     "execution_count": 5,
     "metadata": {},
     "output_type": "execute_result"
    }
   ],
   "source": [
    "L=[213,654,234,7653,567,234,6543,76523,8763]\n",
    "[213,7653,6543,76523,8763]"
   ]
  },
  {
   "cell_type": "code",
   "execution_count": 6,
   "metadata": {},
   "outputs": [
    {
     "name": "stdout",
     "output_type": "stream",
     "text": [
      "[654, 234, 7653, 567, 234, 6543, 76523, 8763, 213]\n"
     ]
    }
   ],
   "source": [
    "L=[213,654,234,7653,567,234,6543,76523,8763]\n",
    "temp=L[0]\n",
    "for i in range(1,len(L)):\n",
    "    L[i-1]=L[i]\n",
    "L[len(L)-1]=temp\n",
    "print (L)"
   ]
  },
  {
   "cell_type": "code",
   "execution_count": null,
   "metadata": {},
   "outputs": [],
   "source": []
  }
 ],
 "metadata": {
  "kernelspec": {
   "display_name": "Python 3",
   "language": "python",
   "name": "python3"
  },
  "language_info": {
   "codemirror_mode": {
    "name": "ipython",
    "version": 3
   },
   "file_extension": ".py",
   "mimetype": "text/x-python",
   "name": "python",
   "nbconvert_exporter": "python",
   "pygments_lexer": "ipython3",
   "version": "3.7.1"
  }
 },
 "nbformat": 4,
 "nbformat_minor": 2
}
