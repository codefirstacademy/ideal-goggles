{
 "cells": [
  {
   "cell_type": "code",
   "execution_count": 1,
   "metadata": {},
   "outputs": [
    {
     "name": "stdout",
     "output_type": "stream",
     "text": [
      "Enter the number20\n",
      "4.47213595499958\n"
     ]
    }
   ],
   "source": [
    "import math\n",
    "n=int(input(\"Enter the number\"))\n",
    "a=math.sqrt(n)\n",
    "print(a)"
   ]
  },
  {
   "cell_type": "code",
   "execution_count": 2,
   "metadata": {},
   "outputs": [],
   "source": [
    "b=math.pow(3,4)"
   ]
  },
  {
   "cell_type": "code",
   "execution_count": 3,
   "metadata": {},
   "outputs": [
    {
     "name": "stdout",
     "output_type": "stream",
     "text": [
      "81.0\n"
     ]
    }
   ],
   "source": [
    "print(b)"
   ]
  },
  {
   "cell_type": "code",
   "execution_count": 4,
   "metadata": {},
   "outputs": [
    {
     "name": "stdout",
     "output_type": "stream",
     "text": [
      "Enter the number13\n",
      "Enter the number24\n",
      "81\n"
     ]
    }
   ],
   "source": [
    "def power():\n",
    "    a=int(input(\"Enter the number1\"))\n",
    "    b=int(input(\"Enter the number2\"))\n",
    "    x=1\n",
    "    for i in range(1,b+1):\n",
    "        x=x*a\n",
    "    print(x)\n",
    "\n",
    "power()"
   ]
  },
  {
   "cell_type": "code",
   "execution_count": 12,
   "metadata": {},
   "outputs": [
    {
     "data": {
      "text/plain": [
       "2.7166666666666663"
      ]
     },
     "execution_count": 12,
     "metadata": {},
     "output_type": "execute_result"
    }
   ],
   "source": [
    "#write a function to calculate factorial of any number\n",
    "#write a program to print the sum of the series using function\n",
    "#1/1! +2/2! + 3/3! +4/4! +.....\n",
    "\n",
    "def factorial(n):\n",
    "    #n=int(input(\"Enter the number\"))\n",
    "    f=1\n",
    "    for i in range(1,n+1):\n",
    "        f=f*i\n",
    "    return f\n",
    "    \n",
    "\n",
    "def series(m):\n",
    "    s=0\n",
    "    for i in range(1,m+1):\n",
    "        s=s+(i/factorial(i))\n",
    "    return s\n",
    "\n",
    "series(6)"
   ]
  },
  {
   "cell_type": "code",
   "execution_count": 2,
   "metadata": {},
   "outputs": [
    {
     "name": "stdout",
     "output_type": "stream",
     "text": [
      "768089\n"
     ]
    }
   ],
   "source": [
    "#WAP in python to find the largest number in the list using function, where list is passed as parameter.\n",
    "def findLargest(lst, size):\n",
    "    max=0\n",
    "    for i in range(size):\n",
    "        if max<lst[i]:\n",
    "            max=lst[i]\n",
    "    return max\n",
    "\n",
    "\n",
    "L=[45654,63423,4679,56345,78,9456,34345,768089,5634,532]\n",
    "a=len(L)\n",
    "large=findLargest(L,a)\n",
    "print(large)"
   ]
  },
  {
   "cell_type": "code",
   "execution_count": 3,
   "metadata": {},
   "outputs": [
    {
     "name": "stdout",
     "output_type": "stream",
     "text": [
      " VPSbbbbbbKRI\n"
     ]
    }
   ],
   "source": [
    "def fun(s):\n",
    "    k=len(s)\n",
    "    m=\" \"\n",
    "    for i in range(0,k):\n",
    "        if(s[i].isupper()):\n",
    "            m=m+s[i].lower()\n",
    "        elif s[i].isalpha():\n",
    "            m=m+s[i].upper()\n",
    "        else:\n",
    "            m=m+'bb'\n",
    "    print(m)\n",
    "\n",
    "fun('vps19$kri') "
   ]
  },
  {
   "cell_type": "code",
   "execution_count": 4,
   "metadata": {},
   "outputs": [
    {
     "name": "stdout",
     "output_type": "stream",
     "text": [
      "900 # 600\n",
      "900 # 300\n",
      "360 # 300\n",
      "1260 # 900\n"
     ]
    }
   ],
   "source": [
    "def Change(P ,Q=60):\n",
    "    P=P+Q\n",
    "    Q=P-Q\n",
    "    print( P,\"#\",Q)\n",
    "    return (P)\n",
    "R=600\n",
    "S=300\n",
    "R=Change(R,S)\n",
    "print(R,\"#\",S)\n",
    "S=Change(S)\n",
    "R=Change(R,S)"
   ]
  },
  {
   "cell_type": "code",
   "execution_count": 5,
   "metadata": {},
   "outputs": [
    {
     "name": "stdout",
     "output_type": "stream",
     "text": [
      "[11, 10, 9, 8, 7, 6]\n"
     ]
    }
   ],
   "source": [
    "def modlist():\n",
    "    l=[]\n",
    "    l1=[]\n",
    "    l2=[]\n",
    "    for i in range(1,10):\n",
    "        l.append(i)\n",
    "    for i in range(10,1,-2):\n",
    "        l1.append(i)\n",
    "    for i in range(len(l1)):\n",
    "        l2.append(l1[i]+l[i])\n",
    "    l2.append(len(l)-i+1)\n",
    "    print(l2)\n",
    "\n",
    "modlist()"
   ]
  },
  {
   "cell_type": "code",
   "execution_count": null,
   "metadata": {},
   "outputs": [],
   "source": []
  }
 ],
 "metadata": {
  "kernelspec": {
   "display_name": "Python 3",
   "language": "python",
   "name": "python3"
  },
  "language_info": {
   "codemirror_mode": {
    "name": "ipython",
    "version": 3
   },
   "file_extension": ".py",
   "mimetype": "text/x-python",
   "name": "python",
   "nbconvert_exporter": "python",
   "pygments_lexer": "ipython3",
   "version": "3.7.1"
  }
 },
 "nbformat": 4,
 "nbformat_minor": 2
}
