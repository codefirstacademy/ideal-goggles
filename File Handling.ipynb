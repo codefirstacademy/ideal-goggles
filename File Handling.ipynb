{
 "cells": [
  {
   "cell_type": "code",
   "execution_count": 1,
   "metadata": {},
   "outputs": [],
   "source": [
    "import os"
   ]
  },
  {
   "cell_type": "code",
   "execution_count": 2,
   "metadata": {},
   "outputs": [
    {
     "data": {
      "text/plain": [
       "'C:\\\\Users\\\\pulki'"
      ]
     },
     "execution_count": 2,
     "metadata": {},
     "output_type": "execute_result"
    }
   ],
   "source": [
    "os.getcwd()#directory == folder"
   ]
  },
  {
   "cell_type": "code",
   "execution_count": 7,
   "metadata": {},
   "outputs": [],
   "source": [
    "#os.mkdir(\"PythonTution\")\n",
    "os.chdir(\"PythonTution\")"
   ]
  },
  {
   "cell_type": "code",
   "execution_count": 8,
   "metadata": {},
   "outputs": [
    {
     "data": {
      "text/plain": [
       "'C:\\\\Users\\\\pulki\\\\PythonTution'"
      ]
     },
     "execution_count": 8,
     "metadata": {},
     "output_type": "execute_result"
    }
   ],
   "source": [
    "os.getcwd()"
   ]
  },
  {
   "cell_type": "code",
   "execution_count": 7,
   "metadata": {},
   "outputs": [
    {
     "data": {
      "text/plain": [
       "'C:\\\\Users\\\\pulki\\\\codefirst'"
      ]
     },
     "execution_count": 7,
     "metadata": {},
     "output_type": "execute_result"
    }
   ],
   "source": [
    "os.getcwd()"
   ]
  },
  {
   "cell_type": "code",
   "execution_count": 8,
   "metadata": {},
   "outputs": [],
   "source": [
    "os.chdir(\"C:\\\\Users\\\\pulki\")"
   ]
  },
  {
   "cell_type": "code",
   "execution_count": 9,
   "metadata": {},
   "outputs": [
    {
     "data": {
      "text/plain": [
       "'C:\\\\Users\\\\pulki'"
      ]
     },
     "execution_count": 9,
     "metadata": {},
     "output_type": "execute_result"
    }
   ],
   "source": [
    "os.getcwd()"
   ]
  },
  {
   "cell_type": "code",
   "execution_count": 26,
   "metadata": {},
   "outputs": [],
   "source": [
    "#absolute path and Relative Path\n",
    "# Relative: codefirst\\\\Input.txt\n",
    "# Absolute: C:\\\\Users\\\\pulki\\\\codefirst\\\\Input.txt\n"
   ]
  },
  {
   "cell_type": "code",
   "execution_count": 12,
   "metadata": {},
   "outputs": [
    {
     "data": {
      "text/plain": [
       "'C:\\\\Users\\\\pulki'"
      ]
     },
     "execution_count": 12,
     "metadata": {},
     "output_type": "execute_result"
    }
   ],
   "source": [
    "os.getcwd()"
   ]
  },
  {
   "cell_type": "code",
   "execution_count": 20,
   "metadata": {},
   "outputs": [
    {
     "data": {
      "text/plain": [
       "''"
      ]
     },
     "execution_count": 20,
     "metadata": {},
     "output_type": "execute_result"
    }
   ],
   "source": [
    "os.path.dirname(\"Input.txt\")"
   ]
  },
  {
   "cell_type": "code",
   "execution_count": 21,
   "metadata": {},
   "outputs": [
    {
     "name": "stdout",
     "output_type": "stream",
     "text": [
      "C:\\Users\\pulki\n"
     ]
    }
   ],
   "source": [
    "print(os.path.abspath(os.path.dirname(\"Input.txt\")))"
   ]
  },
  {
   "cell_type": "code",
   "execution_count": 9,
   "metadata": {},
   "outputs": [
    {
     "data": {
      "text/plain": [
       "'C:\\\\Users\\\\pulki\\\\PythonTution'"
      ]
     },
     "execution_count": 9,
     "metadata": {},
     "output_type": "execute_result"
    }
   ],
   "source": [
    "os.getcwd()"
   ]
  },
  {
   "cell_type": "code",
   "execution_count": 21,
   "metadata": {},
   "outputs": [],
   "source": [
    "f=open(\"Sattwik.txt\",\"w+\")\n",
    "line=\"My name is sattwik. I live in noida. My school name is Apeejay School.\"\n",
    "f.write(line)\n",
    "f.close()"
   ]
  },
  {
   "cell_type": "code",
   "execution_count": 22,
   "metadata": {},
   "outputs": [
    {
     "name": "stdout",
     "output_type": "stream",
     "text": [
      "My name is sattwik. I live in noida. My school name is Apeejay School.\n"
     ]
    }
   ],
   "source": [
    "f=open(\"sattwik.txt\",'r')\n",
    "line=f.read()\n",
    "print(line)\n",
    "f.close()"
   ]
  },
  {
   "cell_type": "code",
   "execution_count": 41,
   "metadata": {},
   "outputs": [
    {
     "name": "stdout",
     "output_type": "stream",
     "text": [
      "['My', 'name', 'is', 'sattwik.', 'I', 'live', 'in', 'noida.', 'My', 'school', 'name', 'is', 'Apeejay', 'School.']\n",
      "5\n"
     ]
    }
   ],
   "source": [
    "f=open(\"sattwik.txt\",'r')\n",
    "line=f.read()\n",
    "#print(line)\n",
    "str1=\"aieouAIEOU\"\n",
    "a=line.split()\n",
    "print(a)\n",
    "count=0\n",
    "for i in a:\n",
    "    if i[0] in str1:\n",
    "        count+=1\n",
    "print(count) "
   ]
  },
  {
   "cell_type": "code",
   "execution_count": 1,
   "metadata": {},
   "outputs": [],
   "source": [
    "f=open(\"Kanishk.txt\",'w')\n",
    "line1=\"My name is kanishk raj mittal\"\n",
    "f.write(line1)\n",
    "f.close()\n"
   ]
  },
  {
   "cell_type": "code",
   "execution_count": null,
   "metadata": {},
   "outputs": [],
   "source": []
  },
  {
   "cell_type": "code",
   "execution_count": 2,
   "metadata": {},
   "outputs": [
    {
     "name": "stdout",
     "output_type": "stream",
     "text": [
      "My name is kanishk raj mittal\n"
     ]
    }
   ],
   "source": [
    "f=open(\"Kanishk.txt\",'r')\n",
    "line=f.read()\n",
    "print(line)\n",
    "f.close()"
   ]
  },
  {
   "cell_type": "code",
   "execution_count": 40,
   "metadata": {},
   "outputs": [
    {
     "name": "stdout",
     "output_type": "stream",
     "text": [
      "This is my first line in the file\n"
     ]
    }
   ],
   "source": [
    "#write: write(), close(), flush(): It transfer all the content entered into the buffer of the file\n",
    "#read: read(), \n",
    "f=open(\"Myfile.txt\",'w')\n",
    "line1=\"This is my first line in the file\"\n",
    "f.write(line1)\n",
    "f.close()\n",
    "f=open(\"Myfile.txt\",'r')\n",
    "line=f.read()\n",
    "f.close()\n",
    "print(line)"
   ]
  },
  {
   "cell_type": "code",
   "execution_count": 45,
   "metadata": {},
   "outputs": [
    {
     "name": "stdout",
     "output_type": "stream",
     "text": [
      "18\n"
     ]
    }
   ],
   "source": [
    "f=open(\"Myfile.txt\",'r')\n",
    "line=f.read()\n",
    "str1=\"aieouAIEOU\"\n",
    "count=0\n",
    "for i in line:\n",
    "    if i in str1:\n",
    "        count+=1\n",
    "f.close()\n",
    "print(count)"
   ]
  },
  {
   "cell_type": "code",
   "execution_count": 25,
   "metadata": {},
   "outputs": [],
   "source": [
    "#Append\n",
    "f1=open(\"Input.txt\",'a')\n",
    "f2=open(\"Myfile.txt\",'r')\n",
    "line=f2.read()\n",
    "f1.write(line)\n",
    "f1.close()\n",
    "f2.close()"
   ]
  },
  {
   "cell_type": "code",
   "execution_count": 3,
   "metadata": {},
   "outputs": [],
   "source": [
    "'''201, Mukherjee Nagar, Delhi - 110009, INDIA\n",
    "digits\n",
    "alphabets\n",
    "vowels\n",
    "special Characters'''\n",
    "\n",
    "f=open(\"Address.txt\",'w+')\n",
    "line=\"201, Mukherjee Nagar, Delhi - 110009, INDIA\"\n",
    "f.write(line)\n",
    "f.close()"
   ]
  },
  {
   "cell_type": "code",
   "execution_count": 4,
   "metadata": {},
   "outputs": [
    {
     "data": {
      "text/plain": [
       "'C:\\\\Users\\\\pulki'"
      ]
     },
     "execution_count": 4,
     "metadata": {},
     "output_type": "execute_result"
    }
   ],
   "source": [
    "import os\n",
    "os.getcwd()"
   ]
  },
  {
   "cell_type": "code",
   "execution_count": 17,
   "metadata": {},
   "outputs": [
    {
     "name": "stdout",
     "output_type": "stream",
     "text": [
      "My name is Pulkit Mehndiratta. I live in Mukherjee Nagar.\n",
      "My\n",
      "Mehndiratta.\n",
      "Mukherjee\n"
     ]
    }
   ],
   "source": [
    "f=open(\"Address.txt\",\"r\")\n",
    "line=f.read()\n",
    "f.close()\n",
    "print(line)\n",
    "L=line.split()\n",
    "for i in L:\n",
    "    if i[0]==\"M\" or i[0]==\"m\":\n",
    "        print(i)"
   ]
  },
  {
   "cell_type": "code",
   "execution_count": 1,
   "metadata": {},
   "outputs": [
    {
     "name": "stdout",
     "output_type": "stream",
     "text": [
      "This is my first line in the file\n",
      "elif eht ni enil tsrif ym si sihT\n"
     ]
    }
   ],
   "source": [
    "f=open(\"Myfile.txt\",\"r\")\n",
    "line=f.read()\n",
    "line1=\"\"\n",
    "for i in range(len(line)-1,-1,-1):\n",
    "    line1=line1+line[i]\n",
    "print(line1)\n",
    "#f.write(line1) \n",
    "f.close()\n",
    "f=open(\"Myfile.txt\",\"a\")\n",
    "f.write(\"\\n\")\n",
    "f.write(line1)\n",
    "f.close()"
   ]
  },
  {
   "cell_type": "code",
   "execution_count": 54,
   "metadata": {},
   "outputs": [
    {
     "name": "stdout",
     "output_type": "stream",
     "text": [
      "This is my first line in the file\n",
      "\n",
      "elif eht ni enil tsrif ym si sihT            \n",
      "\n"
     ]
    }
   ],
   "source": [
    "f=open(\"Myfile.txt\",'r')\n",
    "a=f.readline()\n",
    "print(a)\n",
    "b=f.readline()\n",
    "print(b)\n",
    "f.close()\n"
   ]
  },
  {
   "cell_type": "code",
   "execution_count": 56,
   "metadata": {},
   "outputs": [
    {
     "name": "stdout",
     "output_type": "stream",
     "text": [
      "['This is my first line in the file\\n', 'elif eht ni enil tsrif ym si sihT\\n', 'This is my first line in the file\\n', 'elif eht ni enil tsrif ym si sihT']\n"
     ]
    }
   ],
   "source": [
    "f=open(\"Myfile.txt\",'r')\n",
    "a=f.readlines()\n",
    "print(a)\n",
    "f.close()"
   ]
  },
  {
   "cell_type": "code",
   "execution_count": 11,
   "metadata": {},
   "outputs": [
    {
     "name": "stdout",
     "output_type": "stream",
     "text": [
      "This\n",
      "is\n",
      "my\n",
      "first\n",
      "line\n",
      "in\n",
      "the\n",
      "file\n"
     ]
    }
   ],
   "source": [
    "f=open(\"Myfile.txt\",'r')\n",
    "for line in f.readlines(1):\n",
    "    for word in line.split():\n",
    "        print(word)\n",
    "f.close()"
   ]
  },
  {
   "cell_type": "code",
   "execution_count": null,
   "metadata": {},
   "outputs": [],
   "source": [
    "#tell() seek()"
   ]
  },
  {
   "cell_type": "code",
   "execution_count": 14,
   "metadata": {},
   "outputs": [],
   "source": [
    "f = open(\"a.txt\", 'w')\n",
    "line = 'Welcome to the class'\n",
    "f.write(line)\n",
    "f.close()"
   ]
  },
  {
   "cell_type": "code",
   "execution_count": 59,
   "metadata": {},
   "outputs": [
    {
     "name": "stdout",
     "output_type": "stream",
     "text": [
      "0\n",
      " to the\n",
      "7\n",
      "10\n"
     ]
    }
   ],
   "source": [
    "f=open(\"a.txt\",'r+')\n",
    "print(f.tell())\n",
    "print(f.read(7))\n",
    "print(f.tell())\n",
    "f.seek(10)\n",
    "print(f.tell())"
   ]
  },
  {
   "cell_type": "code",
   "execution_count": 62,
   "metadata": {},
   "outputs": [
    {
     "name": "stdout",
     "output_type": "stream",
     "text": [
      "This"
     ]
    }
   ],
   "source": [
    "f=open(\"Myfile.txt\",'r')\n",
    "line=f.read()\n",
    "for i in line:\n",
    "    if i != \" \":\n",
    "        print(i,end='')\n",
    "    else:\n",
    "        break"
   ]
  },
  {
   "cell_type": "code",
   "execution_count": 17,
   "metadata": {},
   "outputs": [
    {
     "name": "stdout",
     "output_type": "stream",
     "text": [
      "7\n"
     ]
    }
   ],
   "source": []
  },
  {
   "cell_type": "code",
   "execution_count": 18,
   "metadata": {},
   "outputs": [
    {
     "name": "stdout",
     "output_type": "stream",
     "text": [
      " to t\n"
     ]
    }
   ],
   "source": [
    "print(f.read(5))"
   ]
  },
  {
   "cell_type": "code",
   "execution_count": 19,
   "metadata": {},
   "outputs": [
    {
     "name": "stdout",
     "output_type": "stream",
     "text": [
      "12\n"
     ]
    }
   ],
   "source": [
    "print(f.tell())"
   ]
  },
  {
   "cell_type": "code",
   "execution_count": 20,
   "metadata": {},
   "outputs": [
    {
     "data": {
      "text/plain": [
       "0"
      ]
     },
     "execution_count": 20,
     "metadata": {},
     "output_type": "execute_result"
    }
   ],
   "source": [
    "f.seek(0)"
   ]
  },
  {
   "cell_type": "code",
   "execution_count": 21,
   "metadata": {},
   "outputs": [
    {
     "name": "stdout",
     "output_type": "stream",
     "text": [
      "0\n"
     ]
    }
   ],
   "source": [
    "print(f.tell())"
   ]
  },
  {
   "cell_type": "code",
   "execution_count": 22,
   "metadata": {},
   "outputs": [
    {
     "data": {
      "text/plain": [
       "7"
      ]
     },
     "execution_count": 22,
     "metadata": {},
     "output_type": "execute_result"
    }
   ],
   "source": [
    "f.seek(7,0)"
   ]
  },
  {
   "cell_type": "code",
   "execution_count": 23,
   "metadata": {},
   "outputs": [
    {
     "data": {
      "text/plain": [
       "7"
      ]
     },
     "execution_count": 23,
     "metadata": {},
     "output_type": "execute_result"
    }
   ],
   "source": [
    "f.tell()"
   ]
  },
  {
   "cell_type": "code",
   "execution_count": 31,
   "metadata": {},
   "outputs": [
    {
     "data": {
      "text/plain": [
       "7"
      ]
     },
     "execution_count": 31,
     "metadata": {},
     "output_type": "execute_result"
    }
   ],
   "source": [
    "f.seek(7,0)"
   ]
  },
  {
   "cell_type": "code",
   "execution_count": 35,
   "metadata": {},
   "outputs": [
    {
     "data": {
      "text/plain": [
       "7"
      ]
     },
     "execution_count": 35,
     "metadata": {},
     "output_type": "execute_result"
    }
   ],
   "source": [
    "f.tell()"
   ]
  },
  {
   "cell_type": "code",
   "execution_count": 40,
   "metadata": {},
   "outputs": [
    {
     "data": {
      "text/plain": [
       "2"
      ]
     },
     "execution_count": 40,
     "metadata": {},
     "output_type": "execute_result"
    }
   ],
   "source": [
    "f.seek(2,0)"
   ]
  },
  {
   "cell_type": "code",
   "execution_count": 63,
   "metadata": {},
   "outputs": [],
   "source": [
    "f=open(\"a.txt\",\"r\")\n",
    "text=f.read()\n",
    "text=text.replace(\"Welcome\",\"Hi\")\n",
    "f.close()\n",
    "f=open(\"a.txt\",\"w\")\n",
    "f.write(text)\n",
    "f.close()"
   ]
  },
  {
   "cell_type": "code",
   "execution_count": null,
   "metadata": {},
   "outputs": [],
   "source": [
    "'''Q.1 Given a myfile.txt file that has a list of a bunch of names, count how many of each name there are in the file, \n",
    "and print out the results to the screen.\n",
    "\n",
    "Q.2 Write a Python Program that Reads a Text File and Counts the Number of Times a Certain Letter Appears in the Text File\n",
    "\n",
    "Q.3 Write a Python Program to Read a Text File and Print all the Numbers Present in the Text File\n",
    "\n",
    "Q.4 Write a Python Program to Count the Number of Blank Spaces in a Text File.\n",
    "\n",
    "Q.5 Write a Python Program to Read a File and Capitalize the First Letter of Every Word in the File.\n",
    "\n",
    "Q.6 Write a Python Program to Read the Contents of a File in Reverse Order'''"
   ]
  },
  {
   "cell_type": "code",
   "execution_count": 20,
   "metadata": {},
   "outputs": [
    {
     "name": "stdout",
     "output_type": "stream",
     "text": [
      "Mango : 1\n",
      "Banana : 1\n",
      "Apple : 1\n",
      "Orange : 1\n",
      "Grapes : 1\n",
      "Strawberry : 1\n",
      "Cherry : 1\n",
      "Watermelon : 1\n",
      "Kiwis : 1\n",
      "Sweetlime : 1\n"
     ]
    }
   ],
   "source": [
    "f=open(\"Myfile.txt\",'r')\n",
    "d={}\n",
    "for line in f:\n",
    "    words=line.strip()\n",
    "    words=line.lower()\n",
    "    words=line.split()\n",
    "for word in words:\n",
    "    if word in d:\n",
    "        d[word]+=1\n",
    "    else:\n",
    "        d[word]=1\n",
    "f.close()\n",
    "#print(d)\n",
    "for key in list(d.keys()):\n",
    "    print(key,\":\",d[key])"
   ]
  },
  {
   "cell_type": "code",
   "execution_count": 1,
   "metadata": {},
   "outputs": [
    {
     "name": "stdout",
     "output_type": "stream",
     "text": [
      "Enter the alphabete\n",
      "10\n"
     ]
    }
   ],
   "source": [
    "i=input(\"Enter the alphabet\")\n",
    "f=open(\"Myfile.txt\",'r')\n",
    "line1=f.read()\n",
    "count=0\n",
    "for j in line1:\n",
    "    if i==j:\n",
    "        count+=1\n",
    "print(count)\n",
    "f.close()"
   ]
  },
  {
   "cell_type": "code",
   "execution_count": 17,
   "metadata": {},
   "outputs": [
    {
     "name": "stdout",
     "output_type": "stream",
     "text": [
      "Enter the alphabeta\n",
      "8\n"
     ]
    }
   ],
   "source": [
    "i=input(\"Enter the alphabet\")\n",
    "f=open(\"Myfile.txt\",'r')\n",
    "for line in f:\n",
    "    words=line.strip()#Spaces\n",
    "    words=line.lower()#convert to lower case\n",
    "    words=line.split()# token as words\n",
    "count=0\n",
    "for word in words:\n",
    "    for j in word:\n",
    "        if i==j:\n",
    "            count+=1\n",
    "f.close()\n",
    "print(count)"
   ]
  },
  {
   "cell_type": "code",
   "execution_count": 1,
   "metadata": {},
   "outputs": [
    {
     "name": "stdout",
     "output_type": "stream",
     "text": [
      "Before\n",
      "['This', 'is', '1st', 'line', 'of', 'text', 'file,', 'This', 'is', '2nd', 'line,', 'This', 'is', '3rd', 'line', 'of', 'text', 'file']\n",
      "After\n"
     ]
    }
   ],
   "source": [
    "f=open(\"Myfile.txt\",'r')\n",
    "d={}\n",
    "print(\"Before\")\n",
    "for line in f:\n",
    "    words=line.strip()\n",
    "    words=line.lower()\n",
    "    words=line.split()\n",
    "    print(words)\n",
    "f.close()\n",
    "str1=' '\n",
    "f=open(\"Myfile.txt\",'w')\n",
    "print(\"After\")\n",
    "for word in words:\n",
    "    word=word.capitalize()\n",
    "    f.write(word)\n",
    "    f.write(str1)\n",
    "f.close()"
   ]
  },
  {
   "cell_type": "code",
   "execution_count": 22,
   "metadata": {},
   "outputs": [
    {
     "name": "stdout",
     "output_type": "stream",
     "text": [
      "10\n"
     ]
    }
   ],
   "source": [
    "str1=' '\n",
    "count=0\n",
    "f=open(\"Myfile.txt\",'r')\n",
    "line=f.read()\n",
    "for i in line:\n",
    "    if i == str1:\n",
    "        count+=1\n",
    "print(count)\n",
    "f.close()"
   ]
  },
  {
   "cell_type": "code",
   "execution_count": 17,
   "metadata": {},
   "outputs": [
    {
     "name": "stderr",
     "output_type": "stream",
     "text": [
      "My first error is here"
     ]
    }
   ],
   "source": [
    "import sys\n",
    "a = sys.stdin.readline()\n",
    "sys.stdout.write(a)\n",
    "sys.stderr.write(\"My first error is here\")"
   ]
  },
  {
   "cell_type": "code",
   "execution_count": 18,
   "metadata": {},
   "outputs": [
    {
     "name": "stdout",
     "output_type": "stream",
     "text": [
      "binary: b'Hello 123'\n",
      "Decoded data: Hello 123\n"
     ]
    }
   ],
   "source": [
    "f=open(\"binary_file.dat\",\"wb+\")\n",
    "text=\"Hello 123\"\n",
    "encoded=text.encode(\"utf-8\")\n",
    "f.write(encoded)\n",
    "f.seek(0)\n",
    "data=f.read()\n",
    "print(\"binary:\",data)\n",
    "text=data.decode(\"utf-8\")\n",
    "print(\"Decoded data:\",text)\n",
    "f.close()"
   ]
  },
  {
   "cell_type": "code",
   "execution_count": 9,
   "metadata": {},
   "outputs": [
    {
     "data": {
      "text/plain": [
       "'C:\\\\Users\\\\pulki'"
      ]
     },
     "execution_count": 9,
     "metadata": {},
     "output_type": "execute_result"
    }
   ],
   "source": [
    "import os\n",
    "os.get"
   ]
  },
  {
   "cell_type": "code",
   "execution_count": null,
   "metadata": {},
   "outputs": [],
   "source": [
    "pickle"
   ]
  },
  {
   "cell_type": "code",
   "execution_count": 2,
   "metadata": {},
   "outputs": [],
   "source": [
    "import pickle\n",
    "mystring = \"Python\"\n",
    "mylist = [\"python\", \"sql\", \"mysql\"]\n",
    "mydict = { \"name\": \"ABC\", \"job\": \"XYZ\" }\n",
    "output_file = open(\"a.bin\", \"wb\")\n",
    "myint = 42\n",
    "pickle.dump(myint, output_file)\n",
    "pickle.dump(mystring, output_file)\n",
    "pickle.dump(mylist, output_file)\n",
    "pickle.dump(mydict, output_file)\n",
    "output_file.close()\n"
   ]
  },
  {
   "cell_type": "code",
   "execution_count": 3,
   "metadata": {
    "scrolled": true
   },
   "outputs": [
    {
     "name": "stdout",
     "output_type": "stream",
     "text": [
      "myint =  42\n",
      "mystring =  Python\n",
      "mylist =  ['python', 'sql', 'mysql']\n",
      "mydict =  {'name': 'ABC', 'job': 'XYZ'}\n"
     ]
    }
   ],
   "source": [
    "input_file = open(\"a.bin\", \"rb\")\n",
    "myint = pickle.load(input_file)\n",
    "mystring = pickle.load(input_file)\n",
    "mylist = pickle.load(input_file)\n",
    "mydict = pickle.load(input_file)\n",
    "print(\"myint = \",myint)\n",
    "print(\"mystring = \", mystring)\n",
    "print(\"mylist = \",mylist)\n",
    "print(\"mydict = \",  mydict)\n",
    "input_file.close()"
   ]
  },
  {
   "cell_type": "code",
   "execution_count": 3,
   "metadata": {},
   "outputs": [
    {
     "name": "stdout",
     "output_type": "stream",
     "text": [
      "42\n",
      "Python\n",
      "['python', 'sql', 'mysql']\n",
      "{'name': 'ABC', 'job': 'XYZ'}\n"
     ]
    }
   ],
   "source": [
    "import pickle\n",
    "f=open(\"a.bin\", \"rb\")\n",
    "while True:\n",
    "    try:\n",
    "        r=pickle.load(f)\n",
    "        print(r)    \n",
    "    except:\n",
    "        break\n",
    "f.close()"
   ]
  },
  {
   "cell_type": "code",
   "execution_count": 2,
   "metadata": {},
   "outputs": [
    {
     "name": "stdout",
     "output_type": "stream",
     "text": [
      "Enter the number of students3\n",
      "Enter roll number:1\n",
      "Enter Name:pulkti\n",
      "Enter Marks90\n",
      "Enter roll number:2\n",
      "Enter Name:rahul\n",
      "Enter Marks92\n",
      "Enter roll number:3\n",
      "Enter Name:kamaal\n",
      "Enter Marks90\n"
     ]
    }
   ],
   "source": [
    "#Creating records and saving in the file\n",
    "import pickle\n",
    "n=int(input(\"Enter the number of students\"))\n",
    "i=1\n",
    "f=open(\"student.dat\",'ab')\n",
    "while i<=n:\n",
    "    rollno = int(input('Enter roll number:'))\n",
    "    name = input('Enter Name:')\n",
    "    marks = int(input('Enter Marks'))\n",
    "    rec = {'Rollno':rollno,'Name':name,'Marks':marks}\n",
    "    pickle.dump(rec,f)\n",
    "    i+=1\n",
    "f.close()"
   ]
  },
  {
   "cell_type": "code",
   "execution_count": 14,
   "metadata": {},
   "outputs": [
    {
     "name": "stdout",
     "output_type": "stream",
     "text": [
      "Roll number:  1\n",
      "Name:  pulkit\n",
      "Marks 90\n",
      "Roll number:  2\n",
      "Name:  rahul\n",
      "Marks 92\n",
      "Roll number:  3\n",
      "Name:  kamaal\n",
      "Marks 90\n"
     ]
    }
   ],
   "source": [
    "#Reading all records and printing on the screen from file\n",
    "f=open(\"student.dat\",'rb')\n",
    "while True:\n",
    "    try:\n",
    "        rec=pickle.load(f)\n",
    "        print(\"Roll number: \",rec['Rollno'])\n",
    "        print(\"Name: \",rec['Name'])\n",
    "        print(\"Marks\",rec['Marks'])\n",
    "    except EOFError:\n",
    "        break\n",
    "f.close()"
   ]
  },
  {
   "cell_type": "code",
   "execution_count": 8,
   "metadata": {},
   "outputs": [
    {
     "name": "stdout",
     "output_type": "stream",
     "text": [
      "Enter rollno to be searched1\n",
      "Roll Num: 1\n",
      "Name: pulkit\n",
      "Marks: 90\n",
      "Roll Num: 1\n",
      "Name: pulkti\n",
      "Marks: 90\n"
     ]
    }
   ],
   "source": [
    "#Searching a record in a file\n",
    "\n",
    "f = open('student.dat','rb')\n",
    "flag = False\n",
    "r=int(input(\"Enter rollno to be searched\"))\n",
    "while True:\n",
    "    try:\n",
    "        rec = pickle.load(f)\n",
    "        if rec['Rollno'] == r:\n",
    "            print('Roll Num:',rec['Rollno'])\n",
    "            print('Name:',rec['Name'])\n",
    "            print('Marks:',rec['Marks'])\n",
    "            flag = True\n",
    "    except EOFError:\n",
    "        break\n",
    "if flag == False:\n",
    "    print('No Records found')\n",
    "f.close()\n"
   ]
  },
  {
   "cell_type": "code",
   "execution_count": 9,
   "metadata": {},
   "outputs": [
    {
     "name": "stdout",
     "output_type": "stream",
     "text": [
      "Enter name to be searched and updatedpulkti\n",
      "Enter correct roll no4\n"
     ]
    }
   ],
   "source": [
    "# Updating a record in a file\n",
    "f=open(\"student.dat\",'rb')\n",
    "l=[]\n",
    "n=input(\"Enter name to be searched and updated\")\n",
    "m=int(input(\"Enter correct roll no\"))\n",
    "while True:\n",
    "    try:\n",
    "        rec=pickle.load(f)\n",
    "        l.append(rec)\n",
    "    except EOFError:\n",
    "        break\n",
    "f.close()\n",
    "for i in range(len(l)):\n",
    "    if l[i]['Name']==n:\n",
    "        l[i][\"Rollno\"]=m\n",
    "f=open(\"student.dat\",'wb')\n",
    "for x in l:\n",
    "    pickle.dump(x,f)\n",
    "f.close()"
   ]
  },
  {
   "cell_type": "code",
   "execution_count": 13,
   "metadata": {},
   "outputs": [
    {
     "name": "stdout",
     "output_type": "stream",
     "text": [
      "Enter the rollno whose information is to be deleted4\n"
     ]
    }
   ],
   "source": [
    "#Deleting a record in a file\n",
    "\n",
    "=open(\"student.dat\",'rb')\n",
    "l=[]\n",
    "r=int(input(\"Enter the rollno whose information is to be deleted\"))\n",
    "while True:\n",
    "    try:\n",
    "        rec=pickle.load(f)\n",
    "        l.append(rec)\n",
    "    except EOFError:\n",
    "        break\n",
    "f.close()\n",
    "f=open(\"student.dat\",'wb')\n",
    "for x in l:\n",
    "    if x['Rollno']==r:\n",
    "        continue\n",
    "    else:\n",
    "        pickle.dump(x,f)\n",
    "f.close()"
   ]
  },
  {
   "cell_type": "code",
   "execution_count": 31,
   "metadata": {},
   "outputs": [
    {
     "name": "stdout",
     "output_type": "stream",
     "text": [
      "0\n",
      "1\n",
      "Total number of word starting with h are:  5\n"
     ]
    }
   ],
   "source": [
    "str1=\"to\"\n",
    "str2=\"the\"\n",
    "f=open(\"Poem.txt\",'r')\n",
    "line=f.read()\n",
    "a=line.split()\n",
    "count1,count2=0,0\n",
    "for i in a:\n",
    "    if i==str1:\n",
    "        count1+=1\n",
    "    if i==str2:\n",
    "        count2+=1\n",
    "print(count1)\n",
    "print(count2)\n",
    "for i in a:\n",
    "    if i[0] == 'h' or i[0]=='H':\n",
    "        count1+=1\n",
    "print(\"Total number of word starting with h are: \", count1)\n",
    "f.close()\n"
   ]
  },
  {
   "cell_type": "code",
   "execution_count": 8,
   "metadata": {},
   "outputs": [],
   "source": [
    "f1=open(\"Poem.txt\",'r')\n",
    "f2=open(\"Poem1.txt\",'w')\n",
    "line=f1.read()\n",
    "f2.write(line)\n",
    "f1.close()\n",
    "f2.close()"
   ]
  },
  {
   "cell_type": "code",
   "execution_count": 25,
   "metadata": {},
   "outputs": [
    {
     "name": "stdout",
     "output_type": "stream",
     "text": [
      "Enter the word length8\n",
      "Whose\n",
      "woods\n",
      "these\n",
      "are\n",
      "I\n",
      "think\n",
      "I\n",
      "know.\n",
      "His\n",
      "house\n",
      "is\n",
      "in\n",
      "the\n",
      "village\n",
      "though;\n",
      "He\n",
      "will\n",
      "not\n",
      "see\n",
      "me\n",
      "here\n",
      "To\n",
      "watch\n",
      "his\n",
      "woods\n",
      "fill\n",
      "up\n",
      "with\n",
      "snow.\n"
     ]
    }
   ],
   "source": [
    "def length(*l):\n",
    "    n=int(input(\"Enter the word length\"))\n",
    "    f=open(*l,'r')\n",
    "    line=f.read()\n",
    "    a=line.split()\n",
    "    for i in a:\n",
    "        if len(i)<n:\n",
    "            print(i)\n",
    "    f.close()\n",
    "    \n",
    "#length5(\"Poem.txt\")\n",
    "length(\"Poem1.txt\")\n",
    "#length5(\"a.txt\")"
   ]
  },
  {
   "cell_type": "code",
   "execution_count": 29,
   "metadata": {},
   "outputs": [
    {
     "name": "stdout",
     "output_type": "stream",
     "text": [
      "5\n"
     ]
    }
   ],
   "source": [
    "str1=\"My name is divye. I live in mukherjee nagar. is sis is to from is to from is\"\n",
    "a=str1.split()\n",
    "str1=\"is\"\n",
    "count=0\n",
    "for i in a:\n",
    "    if i==str1:\n",
    "        count+=1\n",
    "print(count)"
   ]
  },
  {
   "cell_type": "code",
   "execution_count": 34,
   "metadata": {},
   "outputs": [
    {
     "name": "stdout",
     "output_type": "stream",
     "text": [
      "Whose\n",
      "woods\n",
      "these\n",
      "are\n",
      "I\n",
      "think\n",
      "I\n",
      "know.\n",
      "His\n",
      "house\n",
      "is\n",
      "in\n",
      "the\n",
      "He\n",
      "will\n",
      "not\n",
      "see\n",
      "me\n",
      "here\n",
      "To\n",
      "watch\n",
      "his\n",
      "woods\n",
      "fill\n",
      "up\n",
      "with\n",
      "snow.\n"
     ]
    }
   ],
   "source": [
    "f=open(\"Poem.txt\",'r')\n",
    "f1=open(\"Poem2.txt\",'w')\n",
    "line=f.read()\n",
    "str1=\" \"\n",
    "a=line.split()\n",
    "for i in a:\n",
    "    if len(i)<=5:\n",
    "        print(i)\n",
    "        f1.write(i)\n",
    "        f1.write(str1)\n",
    "f.close()\n",
    "f1.close()"
   ]
  },
  {
   "cell_type": "code",
   "execution_count": 1,
   "metadata": {},
   "outputs": [
    {
     "name": "stdout",
     "output_type": "stream",
     "text": [
      "Name of the file:  myfile.txt\n",
      "Python programming\n",
      "\n",
      "Hello Programmers!!\n"
     ]
    }
   ],
   "source": [
    "#What will be the output of the following code snippet?\n",
    "f= open(\"myfile.txt\", \"w+\")\n",
    "print (\"Name of the file: \", f.name)\n",
    "seq=\"Python programming\\nHello Programmers!!\"\n",
    "f.writelines(seq)\n",
    "f.seek(0,0)\n",
    "for line in f:\n",
    "    print (line)\n",
    "f.close()"
   ]
  },
  {
   "cell_type": "code",
   "execution_count": 2,
   "metadata": {},
   "outputs": [
    {
     "name": "stdout",
     "output_type": "stream",
     "text": [
      "Name of the file:  myfile.txt\n",
      "Read Line: ['This is 1st line of text file, This is 2nd line, This is 3rd line of text file']\n"
     ]
    }
   ],
   "source": [
    "#What will be the output of the following code snippet?\n",
    "f = open(\"myfile.txt\", \"w+\")\n",
    "print (\"Name of the file: \", f.name)\n",
    "txt = \"This is 1st line of text file,\"\n",
    "f.writelines( txt )\n",
    "seq = \" This is 2nd line, This is 3rd line of text file\"\n",
    "f.seek(0, 2)\n",
    "f.writelines(seq)\n",
    "f.seek(0,0)\n",
    "line = f.readlines()\n",
    "print (\"Read Line:\", (line))\n",
    "f.close()"
   ]
  },
  {
   "cell_type": "code",
   "execution_count": null,
   "metadata": {},
   "outputs": [],
   "source": [
    "Write a python program to find the longest word in a text file. (2)\n",
    "\n",
    "Example:\n",
    "Input: The quick brown fox jumps over little lazy dog.\n",
    "Output: little\n",
    "    \n",
    "Write a Python program to combine each line from first file  \n",
    "with the corresponding line in second file and write it in third file. (3)\n",
    "\n",
    "Example:\n",
    "\n",
    "File1.txt\n",
    "\n",
    "Hello\n",
    "My name is \n",
    "\n",
    "File2.txt\n",
    "\n",
    "All\n",
    "Anubhav Singh\n",
    "\n",
    "File3.txt\n",
    "\n",
    "Hello All\n",
    "My name is Anubhav Singh"
   ]
  },
  {
   "cell_type": "code",
   "execution_count": 14,
   "metadata": {},
   "outputs": [
    {
     "name": "stdout",
     "output_type": "stream",
     "text": [
      "['This Is 1st Line Of Text File.\\n', 'This Is 2nd Line.\\n', 'This Is 3rd Line Of Text File.\\n', 'Line 4\\n', 'Line 5\\n']\n",
      "['This Is 1st Line Of Text File.', 'This Is 2nd Line.', 'This Is 3rd Line Of Text File.', 'Line 4', 'Line 5']\n"
     ]
    }
   ],
   "source": [
    "def remove_newlines(fname):\n",
    "    f=open(fname,'r')\n",
    "    lines = f.readlines()\n",
    "    print(lines)\n",
    "    return [i.rstrip('\\n') for i in lines]\n",
    "\n",
    "\n",
    "print(remove_newlines(\"Myfile.txt\"))"
   ]
  },
  {
   "cell_type": "code",
   "execution_count": 13,
   "metadata": {},
   "outputs": [
    {
     "name": "stdout",
     "output_type": "stream",
     "text": [
      "Enter number of lines to be printed2\n",
      "Line 4\n",
      "\n",
      "Line 5\n",
      "\n"
     ]
    }
   ],
   "source": [
    "def remove_newlines(fname):\n",
    "    f=open(fname,'r')\n",
    "    lines = f.readlines()\n",
    "    print(lines)\n",
    "    return [i.rstrip('\\n') for i in lines]\n",
    "\n",
    "\n",
    "print(remove_newlines(\"Myfile.txt\"))"
   ]
  },
  {
   "cell_type": "code",
   "execution_count": null,
   "metadata": {},
   "outputs": [],
   "source": []
  }
 ],
 "metadata": {
  "kernelspec": {
   "display_name": "Python 3",
   "language": "python",
   "name": "python3"
  },
  "language_info": {
   "codemirror_mode": {
    "name": "ipython",
    "version": 3
   },
   "file_extension": ".py",
   "mimetype": "text/x-python",
   "name": "python",
   "nbconvert_exporter": "python",
   "pygments_lexer": "ipython3",
   "version": "3.7.1"
  }
 },
 "nbformat": 4,
 "nbformat_minor": 2
}
