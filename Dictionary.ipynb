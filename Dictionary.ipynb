{
 "cells": [
  {
   "cell_type": "code",
   "execution_count": 3,
   "metadata": {},
   "outputs": [],
   "source": [
    "import numpy\n",
    "import pandas\n",
    "import matplotlib"
   ]
  },
  {
   "cell_type": "code",
   "execution_count": 1,
   "metadata": {},
   "outputs": [
    {
     "name": "stdout",
     "output_type": "stream",
     "text": [
      "Nikita\n",
      "Nandini\n",
      "Navya\n"
     ]
    }
   ],
   "source": [
    "d={1:'Nikita',2:\"Navya\",3:\"Nandini\"}\n",
    "print (d[1])\n",
    "print(d[3])\n",
    "print(d[2])"
   ]
  },
  {
   "cell_type": "code",
   "execution_count": 2,
   "metadata": {},
   "outputs": [
    {
     "name": "stdout",
     "output_type": "stream",
     "text": [
      "Nikita\n",
      "Navya\n",
      "Nandini\n"
     ]
    }
   ],
   "source": [
    "i=1\n",
    "while i<=len(d):\n",
    "    print(d[i])\n",
    "    i+=1"
   ]
  },
  {
   "cell_type": "code",
   "execution_count": 7,
   "metadata": {},
   "outputs": [
    {
     "name": "stdout",
     "output_type": "stream",
     "text": [
      "<class 'dict'>\n"
     ]
    }
   ],
   "source": [
    "print (type(d))"
   ]
  },
  {
   "cell_type": "code",
   "execution_count": 3,
   "metadata": {},
   "outputs": [
    {
     "name": "stdout",
     "output_type": "stream",
     "text": [
      "dict_keys([1, 2, 3])\n"
     ]
    }
   ],
   "source": [
    "print (d.keys())"
   ]
  },
  {
   "cell_type": "code",
   "execution_count": 4,
   "metadata": {},
   "outputs": [
    {
     "name": "stdout",
     "output_type": "stream",
     "text": [
      "dict_values(['Nikita', 'Navya', 'Nandini'])\n"
     ]
    }
   ],
   "source": [
    "print (d.values())"
   ]
  },
  {
   "cell_type": "code",
   "execution_count": 5,
   "metadata": {},
   "outputs": [
    {
     "name": "stdout",
     "output_type": "stream",
     "text": [
      "{1: 'Nikita', 2: 'Navya', 3: 'Nandini'}\n"
     ]
    }
   ],
   "source": [
    "print (d)"
   ]
  },
  {
   "cell_type": "code",
   "execution_count": 6,
   "metadata": {},
   "outputs": [
    {
     "name": "stdout",
     "output_type": "stream",
     "text": [
      "dict_items([(1, 'Nikita'), (2, 'Navya'), (3, 'Nandini')])\n"
     ]
    }
   ],
   "source": [
    "print (d.items())"
   ]
  },
  {
   "cell_type": "code",
   "execution_count": 7,
   "metadata": {},
   "outputs": [],
   "source": [
    "d1=d.copy()"
   ]
  },
  {
   "cell_type": "code",
   "execution_count": 8,
   "metadata": {},
   "outputs": [
    {
     "name": "stdout",
     "output_type": "stream",
     "text": [
      "{1: 'Nikita', 2: 'Navya', 3: 'Nandini'}\n"
     ]
    }
   ],
   "source": [
    "print (d1)"
   ]
  },
  {
   "cell_type": "code",
   "execution_count": 11,
   "metadata": {},
   "outputs": [
    {
     "data": {
      "text/plain": [
       "'Nandini'"
      ]
     },
     "execution_count": 11,
     "metadata": {},
     "output_type": "execute_result"
    }
   ],
   "source": [
    "d1.pop(3)"
   ]
  },
  {
   "cell_type": "code",
   "execution_count": 12,
   "metadata": {},
   "outputs": [
    {
     "name": "stdout",
     "output_type": "stream",
     "text": [
      "{1: 'Nikita', 2: 'Navya'}\n"
     ]
    }
   ],
   "source": [
    "print(d1)"
   ]
  },
  {
   "cell_type": "code",
   "execution_count": 13,
   "metadata": {},
   "outputs": [
    {
     "data": {
      "text/plain": [
       "(2, 'Navya')"
      ]
     },
     "execution_count": 13,
     "metadata": {},
     "output_type": "execute_result"
    }
   ],
   "source": [
    "d1.popitem()"
   ]
  },
  {
   "cell_type": "code",
   "execution_count": 14,
   "metadata": {},
   "outputs": [
    {
     "name": "stdout",
     "output_type": "stream",
     "text": [
      "{1: 'Nikita'}\n"
     ]
    }
   ],
   "source": [
    "print(d1)"
   ]
  },
  {
   "cell_type": "code",
   "execution_count": 18,
   "metadata": {},
   "outputs": [
    {
     "name": "stdout",
     "output_type": "stream",
     "text": [
      "{1: 'Ananya', 3: 'Khayati', 4: 'Krishna', 5: 'Nikita'}\n"
     ]
    }
   ],
   "source": [
    "print(d1)"
   ]
  },
  {
   "cell_type": "code",
   "execution_count": 19,
   "metadata": {},
   "outputs": [
    {
     "data": {
      "text/plain": [
       "(5, 'Nikita')"
      ]
     },
     "execution_count": 19,
     "metadata": {},
     "output_type": "execute_result"
    }
   ],
   "source": [
    "d1.popitem()"
   ]
  },
  {
   "cell_type": "code",
   "execution_count": 20,
   "metadata": {},
   "outputs": [
    {
     "name": "stdout",
     "output_type": "stream",
     "text": [
      "{1: 'Ananya', 3: 'Khayati', 4: 'Krishna'}\n"
     ]
    }
   ],
   "source": [
    "print(d1)\n"
   ]
  },
  {
   "cell_type": "code",
   "execution_count": 31,
   "metadata": {},
   "outputs": [
    {
     "name": "stdout",
     "output_type": "stream",
     "text": [
      "<class 'tuple'>\n"
     ]
    }
   ],
   "source": [
    "tup=()\n",
    "print (type(tup))"
   ]
  },
  {
   "cell_type": "code",
   "execution_count": null,
   "metadata": {},
   "outputs": [],
   "source": [
    "#Create dictionary to store n student details with rollno,name,age field."
   ]
  },
  {
   "cell_type": "code",
   "execution_count": 15,
   "metadata": {},
   "outputs": [
    {
     "name": "stdout",
     "output_type": "stream",
     "text": [
      "Enter the number of students3\n",
      "Enter Roll number9120321\n",
      "Enter nameNavya\n",
      "Enter marks95\n",
      "Enter Roll number9120322\n",
      "Enter nameNikita\n",
      "Enter marks96\n",
      "Enter Roll number9120323\n",
      "Enter nameNandini\n",
      "Enter marks95\n",
      "{9120321: ('Navya', 95), 9120322: ('Nikita', 96), 9120323: ('Nandini', 95)}\n"
     ]
    }
   ],
   "source": [
    "XII={}\n",
    "i=1\n",
    "n=int(input(\"Enter the number of students\"))\n",
    "while i<=n:\n",
    "    roll=int(input(\"Enter Roll number\"))\n",
    "    name=input(\"Enter name\")\n",
    "    marks=int(input(\"Enter marks\"))\n",
    "    XII[roll]=(name,marks)\n",
    "    i+=1\n",
    "print (XII)"
   ]
  },
  {
   "cell_type": "code",
   "execution_count": 18,
   "metadata": {},
   "outputs": [
    {
     "name": "stdout",
     "output_type": "stream",
     "text": [
      "dict_keys([9120321, 9120322, 9120323])\n"
     ]
    }
   ],
   "source": [
    "k=XII.keys()\n",
    "print(k)"
   ]
  },
  {
   "cell_type": "code",
   "execution_count": 19,
   "metadata": {
    "scrolled": true
   },
   "outputs": [
    {
     "name": "stdout",
     "output_type": "stream",
     "text": [
      "Roll\t\tName\t\tMarks\n",
      "9120321\t\tNavya\t\t95\t\t \n",
      "9120322\t\tNikita\t\t96\t\t \n",
      "9120323\t\tNandini\t\t95\t\t \n"
     ]
    }
   ],
   "source": [
    "print (\"Roll\\t\\tName\\t\\tMarks\")\n",
    "for i in k:\n",
    "    j=XII[i]\n",
    "    print (i,end=\"\\t\\t\")\n",
    "    for a in j:\n",
    "        print(a,end=\"\\t\\t\")\n",
    "    print(\" \")"
   ]
  },
  {
   "cell_type": "code",
   "execution_count": 5,
   "metadata": {},
   "outputs": [],
   "source": [
    "import pandas as pd\n",
    "import numpy as np"
   ]
  },
  {
   "cell_type": "code",
   "execution_count": 17,
   "metadata": {},
   "outputs": [
    {
     "name": "stdout",
     "output_type": "stream",
     "text": [
      "0    1\n",
      "1    2\n",
      "2    3\n",
      "3    4\n",
      "4    5\n",
      "dtype: int32\n"
     ]
    }
   ],
   "source": [
    "arr=np.array([1,2,3,4,5])\n",
    "s=pd.Series(arr,index=[0,1,2,3,4])\n",
    "#print (arr)\n",
    "\n",
    "print (s)"
   ]
  },
  {
   "cell_type": "code",
   "execution_count": 12,
   "metadata": {},
   "outputs": [
    {
     "name": "stdout",
     "output_type": "stream",
     "text": [
      "2     Diksha\n",
      "4    Krishna\n",
      "3    Khayati\n",
      "1     Ananya\n",
      "6     Tanmay\n",
      "5     Nikita\n",
      "dtype: object\n"
     ]
    }
   ],
   "source": [
    "d={1:\"Ananya\",2:'Diksha',3:\"Khayati\",4:\"Krishna\",5:\"Nikita\",6:\"Tanmay\"}\n",
    "s1=pd.Series(d, index=[2,4,3,1,6,5])\n",
    "print(s1)"
   ]
  },
  {
   "cell_type": "code",
   "execution_count": 18,
   "metadata": {},
   "outputs": [
    {
     "name": "stdout",
     "output_type": "stream",
     "text": [
      "0    5\n",
      "1    5\n",
      "2    5\n",
      "3    5\n",
      "4    5\n",
      "dtype: int64\n"
     ]
    }
   ],
   "source": [
    "s2=pd.Series(5,index=[0,1,2,3,4])\n",
    "print(s2)"
   ]
  },
  {
   "cell_type": "code",
   "execution_count": 20,
   "metadata": {},
   "outputs": [
    {
     "name": "stdout",
     "output_type": "stream",
     "text": [
      "0    12\n",
      "1    14\n",
      "2    16\n",
      "3    18\n",
      "4    20\n",
      "dtype: int64\n"
     ]
    }
   ],
   "source": [
    "s3=(s+s2)*2\n",
    "print (s3)"
   ]
  },
  {
   "cell_type": "code",
   "execution_count": 21,
   "metadata": {},
   "outputs": [
    {
     "name": "stdout",
     "output_type": "stream",
     "text": [
      "2    3\n",
      "3    4\n",
      "4    5\n",
      "dtype: int32\n"
     ]
    }
   ],
   "source": [
    "print (s.tail(3))"
   ]
  },
  {
   "cell_type": "code",
   "execution_count": 22,
   "metadata": {},
   "outputs": [
    {
     "name": "stdout",
     "output_type": "stream",
     "text": [
      "0    1\n",
      "1    2\n",
      "2    3\n",
      "dtype: int32\n"
     ]
    }
   ],
   "source": [
    "print (s.head(3))"
   ]
  },
  {
   "cell_type": "code",
   "execution_count": 26,
   "metadata": {},
   "outputs": [
    {
     "name": "stdout",
     "output_type": "stream",
     "text": [
      "3    4\n",
      "4    5\n",
      "dtype: int32\n"
     ]
    }
   ],
   "source": [
    "print (s[[3,4]])"
   ]
  },
  {
   "cell_type": "code",
   "execution_count": 24,
   "metadata": {},
   "outputs": [
    {
     "name": "stdout",
     "output_type": "stream",
     "text": [
      "0    1\n",
      "1    2\n",
      "2    3\n",
      "dtype: int32\n"
     ]
    }
   ],
   "source": [
    "print (s[:3])"
   ]
  },
  {
   "cell_type": "code",
   "execution_count": 3,
   "metadata": {},
   "outputs": [
    {
     "name": "stdout",
     "output_type": "stream",
     "text": [
      "Enter the key you want to searchNandini\n",
      "100\n"
     ]
    }
   ],
   "source": [
    "d={\"Navya\":1000,\"Nandini\":100,\"Nikita\":500}\n",
    "k=d.keys()\n",
    "str1=input(\"Enter the key you want to search\")\n",
    "flag=0\n",
    "for i in k:\n",
    "    if i==str1:\n",
    "        print(d[i])\n",
    "        flag=1\n",
    "if flag==0:\n",
    "    print(\"Key not found\")"
   ]
  },
  {
   "cell_type": "code",
   "execution_count": 1,
   "metadata": {},
   "outputs": [
    {
     "name": "stdout",
     "output_type": "stream",
     "text": [
      "Enter the number of countires1\n",
      "Enter country nameindia\n",
      "Enter the capitaldelhi\n",
      "Enter the currencyrupee\n",
      "{'india': ('delhi', 'rupee')}\n",
      "Country\t\t\tCapital\t\t\tCurrency\n",
      "india\t\t\tdelhi\t\t\trupee\t\t\t \n"
     ]
    }
   ],
   "source": [
    "C={}\n",
    "n=int(input(\"Enter the number of countires\"))\n",
    "i=1\n",
    "while i<=n:\n",
    "    cname=input(\"Enter country name\")\n",
    "    capital=input(\"Enter the capital\")\n",
    "    curr=input(\"Enter the currency\")\n",
    "    C[cname]=(capital,curr)\n",
    "    i=i+1\n",
    "print (C)\n",
    "k=C.keys()\n",
    "print (\"Country\\t\\t\\tCapital\\t\\t\\tCurrency\")\n",
    "for i in k:\n",
    "    j=C[i]\n",
    "    print (i,end=\"\\t\\t\\t\")\n",
    "    for a in j:\n",
    "        print(a,end=\"\\t\\t\\t\")\n",
    "    print(\" \")"
   ]
  },
  {
   "cell_type": "code",
   "execution_count": 18,
   "metadata": {},
   "outputs": [
    {
     "name": "stdout",
     "output_type": "stream",
     "text": [
      "{'m': 3, 'y': 1, ' ': 4, 'n': 2, 'a': 3, 'e': 2, 'i': 3, 's': 1, 'p': 1, 'u': 1, 'l': 1, 'k': 1, 't': 3, 'h': 1, 'd': 1, 'r': 1}\n"
     ]
    }
   ],
   "source": [
    "str1=\"my name is pulkit mehndiratta\"\n",
    "d={}\n",
    "for c in str1:\n",
    "    if c not in d:\n",
    "        d[c] = 1\n",
    "    else:\n",
    "        d[c] = d[c] + 1\n",
    "print (d)"
   ]
  },
  {
   "cell_type": "code",
   "execution_count": 4,
   "metadata": {},
   "outputs": [
    {
     "name": "stdout",
     "output_type": "stream",
     "text": [
      "dict_keys(['t', 'h', 'i', 's', ' ', 'm', 'y', 'f', 'r', 'e'])\n",
      "Enter the key you want to searcha\n",
      "Key is not present\n"
     ]
    }
   ],
   "source": [
    "d={'t':4, 'h':1,'i':3,'s':4,' ':4,'m':1,'y':1,'f':1,'r':1,'e':1}\n",
    "k=d.keys()\n",
    "print(k)\n",
    "a=input(\"Enter the key you want to search\")\n",
    "if a in k:\n",
    "    print(\"Key is present\")\n",
    "else:\n",
    "    print(\"Key is not present\")"
   ]
  },
  {
   "cell_type": "code",
   "execution_count": 27,
   "metadata": {},
   "outputs": [
    {
     "name": "stdout",
     "output_type": "stream",
     "text": [
      "{'a': 300, 'b': 200, 'c': 300, 'd': 400}\n"
     ]
    }
   ],
   "source": [
    "#Write a Python program to combine two dictionary adding values for common keys.\n",
    "#d1 = {'a': 100, 'b': 200, 'c':300}\n",
    "#d2 = {'a': 300, 'b': 200, 'd':400}\n",
    "#Sample output: Counter({'a': 400, 'b': 400, 'd': 400, 'c': 300})\n",
    "d1 = {'a': 100, 'b': 200, 'c':300}\n",
    "d2 = {'a': 300, 'b': 200, 'd':400}\n",
    "k=d2.keys()\n",
    "for k in d2:\n",
    "    if k not in d1:\n",
    "        d1.update(d2)\n",
    "    else:\n",
    "        d1[k]=d1[k]+d2[k]\n",
    "print(d1)"
   ]
  },
  {
   "cell_type": "code",
   "execution_count": 29,
   "metadata": {},
   "outputs": [
    {
     "name": "stdout",
     "output_type": "stream",
     "text": [
      "{1: 10, 2: 20, 3: 30, 4: 40, 5: 50, 6: 60}\n"
     ]
    }
   ],
   "source": [
    "dic1={1:10, 2:20}\n",
    "dic2={3:30, 4:40}\n",
    "dic3={5:50, 6:60}\n",
    "dic4 = {}\n",
    "for d in (dic1, dic2, dic3): \n",
    "    dic4.update(d)\n",
    "print(dic4)"
   ]
  },
  {
   "cell_type": "code",
   "execution_count": 32,
   "metadata": {},
   "outputs": [
    {
     "name": "stdout",
     "output_type": "stream",
     "text": [
      "{'a': 100, 'b': 200, 'c': 300}\n",
      "{'a': 300, 'b': 200, 'c': 300, 'd': 400}\n",
      "{'a': 400, 'b': 400, 'c': 300, 'd': 400}\n"
     ]
    }
   ],
   "source": [
    "d1 = {'a': 100, 'b': 200, 'c':300}\n",
    "d2 = {'a': 300, 'b': 200, 'd':400}\n",
    "d3 = dict(d1) # don't do `d3=d1`, you need to make a copy\n",
    "print(d3)\n",
    "d3.update(d2) \n",
    "print(d3)\n",
    "for i, j in d1.items():\n",
    "    for x, y in d2.items():\n",
    "        if i == x:\n",
    "            d3[i]=(j+y)\n",
    "print(d3)"
   ]
  },
  {
   "cell_type": "code",
   "execution_count": null,
   "metadata": {},
   "outputs": [],
   "source": []
  }
 ],
 "metadata": {
  "kernelspec": {
   "display_name": "Python 3",
   "language": "python",
   "name": "python3"
  },
  "language_info": {
   "codemirror_mode": {
    "name": "ipython",
    "version": 3
   },
   "file_extension": ".py",
   "mimetype": "text/x-python",
   "name": "python",
   "nbconvert_exporter": "python",
   "pygments_lexer": "ipython3",
   "version": "3.7.1"
  }
 },
 "nbformat": 4,
 "nbformat_minor": 2
}
