{
 "cells": [
  {
   "cell_type": "code",
   "execution_count": 1,
   "metadata": {},
   "outputs": [
    {
     "name": "stdout",
     "output_type": "stream",
     "text": [
      "['p1', 'q1', 'p2', 'q2', 'p3', 'q3', 'p4', 'q4', 'p5', 'q5']\n"
     ]
    }
   ],
   "source": [
    "#Write a Python program to create a list by concatenating a given list which range goes from 1 to n. \n",
    "#Sample list : ['p', 'q'] and n =5\n",
    "#Sample Output : ['p1', 'q1', 'p2', 'q2', 'p3', 'q3', 'p4', 'q4', 'p5', 'q5']\n",
    "\n",
    "\n",
    "l=['p','q']\n",
    "l1=[]\n",
    "n=5\n",
    "for i in range(1,n+1,1):\n",
    "    for j in range(len(l)):\n",
    "        a=l[j]+str(i)\n",
    "        l1.append(a)\n",
    "print (l1)"
   ]
  },
  {
   "cell_type": "code",
   "execution_count": 2,
   "metadata": {},
   "outputs": [
    {
     "name": "stdout",
     "output_type": "stream",
     "text": [
      "123456\n"
     ]
    },
    {
     "data": {
      "text/plain": [
       "int"
      ]
     },
     "execution_count": 2,
     "metadata": {},
     "output_type": "execute_result"
    }
   ],
   "source": [
    "#Write a Python program to convert a list of multiple integers into a single integer. \n",
    "#Sample list: [11, 33, 50]\n",
    "#Expected Output: 113350\n",
    "l=[1,2,3,4,5,6]\n",
    "str1=\"\"\n",
    "for i in range(len(l)):\n",
    "    a=str(l[i])\n",
    "    str1=str1+a\n",
    "b=int(str1)\n",
    "print (b)\n",
    "type(b)"
   ]
  },
  {
   "cell_type": "code",
   "execution_count": 3,
   "metadata": {},
   "outputs": [
    {
     "name": "stdout",
     "output_type": "stream",
     "text": [
      "Enter m2\n",
      "enter n3\n",
      "7\n"
     ]
    }
   ],
   "source": [
    "#Write a Python function that takes a number as a parameter and check the number is prime or not.\n",
    "\n",
    "'''The ackermann functions is \n",
    "        n+1\t\tif m=0\n",
    "A(m,n)=\tA(m-1,1) \tif n=0\n",
    "        A(m-1,A(m,n-1))\totherwise\n",
    "        \n",
    "        \n",
    "        Write a recursive call for this function.\n",
    "'''\n",
    "\n",
    "\n",
    "def A(m,n):\n",
    "    if m==0:\n",
    "        return n+1\n",
    "    elif n==0:\n",
    "        return A(m-1,n)\n",
    "    else:\n",
    "        return A(m-1,A(m-1,n))\n",
    "\n",
    "m=int(input(\"Enter m\"))\n",
    "n=int(input(\"enter n\"))\n",
    "answer=A(m,n)\n",
    "print(answer)"
   ]
  },
  {
   "cell_type": "code",
   "execution_count": 4,
   "metadata": {},
   "outputs": [
    {
     "name": "stdout",
     "output_type": "stream",
     "text": [
      "The new string is: Ss1sUs3sEs5sTs\n"
     ]
    }
   ],
   "source": [
    "def makenew(mystr):\n",
    "    newstr = \"\"\n",
    "    count = 0\n",
    "    for i in mystr:\n",
    "        if count%2 != 0:\n",
    "            newstr = newstr + str(count)\n",
    "        elif i.islower():\n",
    "            newstr = newstr + i.upper()\n",
    "        else:\n",
    "            newstr = newstr + i\n",
    "        count += 1\n",
    "        newstr = newstr + mystr[:1]\n",
    "    print(\"The new string is:\", newstr)\n",
    "\n",
    "makenew(\"sTUdeNT\")"
   ]
  },
  {
   "cell_type": "code",
   "execution_count": 5,
   "metadata": {},
   "outputs": [
    {
     "name": "stdout",
     "output_type": "stream",
     "text": [
      "The gcd of 60 and 48 is : 12\n"
     ]
    }
   ],
   "source": [
    "def hcfnaive(a,b): \n",
    "    if(b==0): \n",
    "        return a \n",
    "    else: \n",
    "        return hcfnaive(b,a%b) \n",
    "\n",
    "    \n",
    "a = 60\n",
    "b= 48\n",
    "  \n",
    "# prints 12 \n",
    "print (\"The gcd of 60 and 48 is : \",end=\"\") \n",
    "print (hcfnaive(60,48)) "
   ]
  },
  {
   "cell_type": "code",
   "execution_count": 6,
   "metadata": {},
   "outputs": [
    {
     "name": "stdout",
     "output_type": "stream",
     "text": [
      "The gcd of 60 and 48 is : 12\n"
     ]
    }
   ],
   "source": [
    "def computeGCD(x, y): \n",
    "  \n",
    "    if x > y: \n",
    "        small = y \n",
    "    else: \n",
    "        small = x \n",
    "    for i in range(1, small+1): \n",
    "        if((x % i == 0) and (y % i == 0)): \n",
    "            gcd = i \n",
    "              \n",
    "    return gcd \n",
    "  \n",
    "a = 60\n",
    "b= 48\n",
    "  \n",
    "# prints 12 \n",
    "print (\"The gcd of 60 and 48 is : \",end=\"\") \n",
    "print (computeGCD(60,48)) "
   ]
  },
  {
   "cell_type": "code",
   "execution_count": 1,
   "metadata": {},
   "outputs": [
    {
     "name": "stdout",
     "output_type": "stream",
     "text": [
      "45\n"
     ]
    }
   ],
   "source": [
    "def findMaxRec(A, n): \n",
    "      \n",
    "    # if size = 0 means whole array \n",
    "    # has been traversed \n",
    "    if (n == 1): \n",
    "        return A[0] \n",
    "    return max(A[n - 1], findMaxRec(A, n - 1))\n",
    "\n",
    "A = [1, 4, 45, 6, -50, 10, 2] \n",
    "n = len(A) \n",
    "print(findMaxRec(A, n))"
   ]
  },
  {
   "cell_type": "code",
   "execution_count": 2,
   "metadata": {},
   "outputs": [
    {
     "name": "stdout",
     "output_type": "stream",
     "text": [
      "Element 3 is present at index 4\n"
     ]
    }
   ],
   "source": [
    "def recSearch( arr, l, r, x): \n",
    "    if r < l: \n",
    "        return -1\n",
    "    if arr[l] == x: \n",
    "        return l \n",
    "    if arr[r] == x: \n",
    "        return r \n",
    "    return recSearch(arr, l+1, r-1, x) \n",
    "  \n",
    "# Driver Code  \n",
    "arr = [12, 34, 54, 2, 3] \n",
    "n = len(arr) \n",
    "x = 3\n",
    "index = recSearch(arr, 0, n-1, x) \n",
    "if index != -1: \n",
    "    print (\"Element\", x,\"is present at index %d\" %(index)) \n",
    "else: \n",
    "    print (\"Element %d is not present\" %(x))"
   ]
  },
  {
   "cell_type": "code",
   "execution_count": 3,
   "metadata": {},
   "outputs": [
    {
     "name": "stdout",
     "output_type": "stream",
     "text": [
      "Sorted array:\n",
      "11 12 22 25 34 64 90 "
     ]
    }
   ],
   "source": [
    "def bubble_sort(listt): \n",
    "    for i, num in enumerate(listt): \n",
    "        try: \n",
    "            if listt[i+1] < num: \n",
    "                listt[i] = listt[i+1] \n",
    "                listt[i+1] = num \n",
    "                bubble_sort(listt) \n",
    "        except IndexError: \n",
    "            pass\n",
    "    return listt \n",
    "  \n",
    "listt = [64, 34, 25, 12, 22, 11, 90] \n",
    "bubble_sort(listt) \n",
    "  \n",
    "print(\"Sorted array:\"); \n",
    "for i in range(0, len(listt)): \n",
    "    print(listt[i], end=' ')"
   ]
  },
  {
   "cell_type": "code",
   "execution_count": 4,
   "metadata": {},
   "outputs": [
    {
     "name": "stdout",
     "output_type": "stream",
     "text": [
      "0 1 1 2 "
     ]
    }
   ],
   "source": [
    "def a(n):\n",
    "    if n == 0:\n",
    "        return 0\n",
    "    elif n == 1:\n",
    "        return 1\n",
    "    else:\n",
    "        return a(n-1)+a(n-2)\n",
    "for i in range(0,4):\n",
    "    print(a(i),end=\" \")"
   ]
  },
  {
   "cell_type": "code",
   "execution_count": null,
   "metadata": {},
   "outputs": [],
   "source": []
  }
 ],
 "metadata": {
  "kernelspec": {
   "display_name": "Python 3",
   "language": "python",
   "name": "python3"
  },
  "language_info": {
   "codemirror_mode": {
    "name": "ipython",
    "version": 3
   },
   "file_extension": ".py",
   "mimetype": "text/x-python",
   "name": "python",
   "nbconvert_exporter": "python",
   "pygments_lexer": "ipython3",
   "version": "3.7.1"
  }
 },
 "nbformat": 4,
 "nbformat_minor": 2
}
