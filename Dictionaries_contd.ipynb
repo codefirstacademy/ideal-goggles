{
 "cells": [
  {
   "cell_type": "code",
   "execution_count": 1,
   "metadata": {},
   "outputs": [
    {
     "name": "stdout",
     "output_type": "stream",
     "text": [
      "Enter the stringMy name is nandini khera\n",
      "Enter the alphabetn\n",
      "4\n"
     ]
    }
   ],
   "source": [
    "str1=input(\"Enter the string\")\n",
    "str2=input(\"Enter the alphabet\")\n",
    "count=0\n",
    "for i in str1:\n",
    "    if i==str2:\n",
    "        count=count+1\n",
    "print(count)"
   ]
  },
  {
   "cell_type": "code",
   "execution_count": 2,
   "metadata": {},
   "outputs": [
    {
     "data": {
      "text/plain": [
       "6"
      ]
     },
     "execution_count": 2,
     "metadata": {},
     "output_type": "execute_result"
    }
   ],
   "source": [
    "l=[1,2,3,4,5,6,7,6,5,4,5,6,7,8,7,6,4,3,2,21,3,4,5,6,7,8,9,7,56,4,3,3,4,5,6,7,8,9]\n",
    "l.count(6)"
   ]
  },
  {
   "cell_type": "code",
   "execution_count": 9,
   "metadata": {},
   "outputs": [
    {
     "name": "stdout",
     "output_type": "stream",
     "text": [
      "Enter the key you want to searchDiksha\n",
      "Key not found\n"
     ]
    }
   ],
   "source": [
    "d={\"Navya\":1000,\"Nandini\":100,\"Nikita\":500}\n",
    "k=d.keys()\n",
    "str1=input(\"Enter the key you want to search\")\n",
    "flag=0\n",
    "for i in k:\n",
    "    if i==str1:\n",
    "        print(d[i])\n",
    "        flag=1\n",
    "if flag==0:\n",
    "    print(\"Key not found\")"
   ]
  },
  {
   "cell_type": "code",
   "execution_count": 15,
   "metadata": {},
   "outputs": [
    {
     "name": "stdout",
     "output_type": "stream",
     "text": [
      "Enter the number of countires2\n",
      "Enter country nameQatar\n",
      "Enter the capitalDoha\n",
      "Enter the currencyDinar\n",
      "Enter country nameIndia\n",
      "Enter the capitalDelhi\n",
      "Enter the currencyRupee\n",
      "{'Qatar': ('Doha', 'Dinar'), 'India': ('Delhi', 'Rupee')}\n",
      "Country\t\t\tCapital\t\t\tCurrency\n",
      "Qatar\t\t\tDoha\t\t\tDinar\t\t\t \n",
      "India\t\t\tDelhi\t\t\tRupee\t\t\t \n"
     ]
    }
   ],
   "source": []
  },
  {
   "cell_type": "code",
   "execution_count": null,
   "metadata": {},
   "outputs": [],
   "source": [
    "str1=\"my name is navya dua. i love to see netflix and chill.\"\n",
    "d={'m':2,'n':4}"
   ]
  },
  {
   "cell_type": "code",
   "execution_count": null,
   "metadata": {},
   "outputs": [],
   "source": []
  }
 ],
 "metadata": {
  "kernelspec": {
   "display_name": "Python 3",
   "language": "python",
   "name": "python3"
  },
  "language_info": {
   "codemirror_mode": {
    "name": "ipython",
    "version": 3
   },
   "file_extension": ".py",
   "mimetype": "text/x-python",
   "name": "python",
   "nbconvert_exporter": "python",
   "pygments_lexer": "ipython3",
   "version": "3.7.1"
  }
 },
 "nbformat": 4,
 "nbformat_minor": 2
}
