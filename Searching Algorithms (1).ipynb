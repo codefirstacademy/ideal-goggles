{
 "cells": [
  {
   "cell_type": "code",
   "execution_count": 2,
   "metadata": {},
   "outputs": [
    {
     "name": "stdout",
     "output_type": "stream",
     "text": [
      "Enter the number to be searched77546\n",
      "Number found at  11\n"
     ]
    }
   ],
   "source": [
    "def linearsearch(lst,size,x):\n",
    "    flag=0\n",
    "    for i in range(size):\n",
    "        if lst[i]==x:\n",
    "            flag=1\n",
    "            break;\n",
    "    if flag==1:\n",
    "        print(\"Number found at \",end=' ')\n",
    "        print(i+1)\n",
    "    else:\n",
    "        print(\"Number not found\")\n",
    "\n",
    "        \n",
    "L=[3452,454367,678,53432,54767,978,34523,876,9,96,77546,43]\n",
    "n=int(input(\"Enter the number to be searched\"))\n",
    "a=len(L)\n",
    "linearsearch(L,a,n)"
   ]
  },
  {
   "cell_type": "code",
   "execution_count": 4,
   "metadata": {},
   "outputs": [
    {
     "name": "stdout",
     "output_type": "stream",
     "text": [
      "Enter the number to be searched77546\n",
      "Number found at  11\n"
     ]
    }
   ],
   "source": [
    "def linearsearchrec(lst,left,right,x):\n",
    "    if left>right:\n",
    "        return -1\n",
    "    if lst[left]==x:\n",
    "        return left+1\n",
    "    else:\n",
    "        return linearsearchrec(lst,left+1,right,x)\n",
    "        \n",
    "        \n",
    "        \n",
    "L=[3452,454367,678,53432,54767,978,34523,876,9,96,77546,43]\n",
    "n=int(input(\"Enter the number to be searched\"))\n",
    "a=len(L)\n",
    "b=linearsearchrec(L,0,a-1,n)\n",
    "if b==-1:\n",
    "    print(\"Number not found\")\n",
    "else: \n",
    "    print(\"Number found at \",end=' ')\n",
    "    print(b)\n",
    "\n"
   ]
  },
  {
   "cell_type": "code",
   "execution_count": 1,
   "metadata": {},
   "outputs": [
    {
     "name": "stdout",
     "output_type": "stream",
     "text": [
      "Element is present at position 4\n"
     ]
    }
   ],
   "source": [
    "#BinarySearch\n",
    "# Iterative Binary Search Function \n",
    "# It returns location of x in given array arr if present, \n",
    "# else returns -1 \n",
    "def binarySearch(arr, l, r, x): \n",
    "    while l <= r:\n",
    "        mid = l + (r - l)//2; \n",
    "          \n",
    "        # Check if x is present at mid \n",
    "        if arr[mid] == x: \n",
    "            return mid \n",
    "  \n",
    "        # If x is greater, ignore left half \n",
    "        elif arr[mid] < x: \n",
    "            l = mid + 1\n",
    "  \n",
    "        # If x is smaller, ignore right half \n",
    "        else: \n",
    "            r = mid - 1\n",
    "      \n",
    "    # If we reach here, then the element was not present \n",
    "    return -1\n",
    "  \n",
    "  \n",
    "# Test array \n",
    "arr = [ 2, 3, 4, 10, 40 ] \n",
    "x = 10\n",
    "  \n",
    "# Function call \n",
    "result = binarySearch(arr, 0, len(arr)-1, x) \n",
    "  \n",
    "if result != -1: \n",
    "    print (\"Element is present at position %d\" % (result+1))\n",
    "else: \n",
    "    print (\"Element is not present in array\")"
   ]
  },
  {
   "cell_type": "code",
   "execution_count": 2,
   "metadata": {},
   "outputs": [
    {
     "name": "stdout",
     "output_type": "stream",
     "text": [
      "Element is present at position 4\n"
     ]
    }
   ],
   "source": [
    "# Returns index of x in arr if present, else -1 \n",
    "def binarySearch (arr, l, r, x): \n",
    "  \n",
    "    # Check base case \n",
    "    if l<=r: \n",
    "  \n",
    "        mid = l + (r - l)//2\n",
    "  \n",
    "        # If element is present at the middle itself \n",
    "        if arr[mid] == x: \n",
    "            return mid \n",
    "          \n",
    "        # If element is smaller than mid, then it can only \n",
    "        # be present in left subarray \n",
    "        elif arr[mid] > x: \n",
    "            return binarySearch(arr, l, mid-1, x) \n",
    "  \n",
    "        # Else the element can only be present in right subarray \n",
    "        else: \n",
    "            return binarySearch(arr, mid+1, r, x) \n",
    "  \n",
    "    else: \n",
    "        # Element is not present in the array \n",
    "        return -1\n",
    "    \n",
    "arr = [ 2, 3, 4, 10, 40 ] \n",
    "x = 10\n",
    "  \n",
    "# Function call \n",
    "result = binarySearch(arr, 0, len(arr)-1, x) \n",
    "  \n",
    "if result != -1: \n",
    "    print (\"Element is present at position %d\" % (result+1))\n",
    "else: \n",
    "    print (\"Element is not present in array\")"
   ]
  },
  {
   "cell_type": "code",
   "execution_count": null,
   "metadata": {},
   "outputs": [],
   "source": []
  }
 ],
 "metadata": {
  "kernelspec": {
   "display_name": "Python 3",
   "language": "python",
   "name": "python3"
  },
  "language_info": {
   "codemirror_mode": {
    "name": "ipython",
    "version": 3
   },
   "file_extension": ".py",
   "mimetype": "text/x-python",
   "name": "python",
   "nbconvert_exporter": "python",
   "pygments_lexer": "ipython3",
   "version": "3.7.1"
  }
 },
 "nbformat": 4,
 "nbformat_minor": 2
}
