{
 "cells": [
  {
   "cell_type": "code",
   "execution_count": 4,
   "metadata": {},
   "outputs": [
    {
     "name": "stdout",
     "output_type": "stream",
     "text": [
      "()\n",
      "(34, 'Do you like Python?', 'Of course')\n",
      "(1, 2, 3)\n",
      "('My name is kanishk Mittal',)\n"
     ]
    }
   ],
   "source": [
    "def varpafu(*x): \n",
    "    print(x)\n",
    "    \n",
    "varpafu()\n",
    "varpafu(34,\"Do you like Python?\", \"Of course\")\n",
    "varpafu(1,2,3)\n",
    "varpafu(\"My name is kanishk Mittal\")"
   ]
  },
  {
   "cell_type": "code",
   "execution_count": 5,
   "metadata": {},
   "outputs": [
    {
     "name": "stdout",
     "output_type": "stream",
     "text": [
      "[0, 1, 1, 2, 3, 5, 8]\n",
      "[0, 1, 1, 2, 3, 5, 8, 47, 11]\n"
     ]
    }
   ],
   "source": [
    "def func1(list1):\n",
    "    print (list1)\n",
    "    list1 += [47,11]\n",
    "    print (list1)\n",
    "\n",
    "fib = [0,1,1,2,3,5,8]\n",
    "func1(fib)"
   ]
  },
  {
   "cell_type": "code",
   "execution_count": 8,
   "metadata": {},
   "outputs": [
    {
     "name": "stdout",
     "output_type": "stream",
     "text": [
      "6.0\n",
      "11.833333333333334\n",
      "5.0\n"
     ]
    }
   ],
   "source": [
    "#Write a function which calculates the arithmetic mean of a variable number of values.\n",
    "def means(*l):\n",
    "    s=0\n",
    "    for i in l:\n",
    "        s+=i\n",
    "    avg=s/(len(l))\n",
    "    return avg\n",
    "\n",
    "print(means(4,8))\n",
    "print(means(24,5,4,24,4,10))\n",
    "print(means(1,2,3,4,5,6,7,8,9))"
   ]
  },
  {
   "cell_type": "code",
   "execution_count": 24,
   "metadata": {},
   "outputs": [
    {
     "name": "stdout",
     "output_type": "stream",
     "text": [
      "1\n",
      "2\n",
      "3\n",
      "1\n",
      "2\n",
      "3\n"
     ]
    }
   ],
   "source": [
    "def s(a,b,c):\n",
    "    print (a)\n",
    "    print (b)\n",
    "    print (c)\n",
    "\n",
    "p=(1,2,3)\n",
    "s(p[0],p[1],p[2])\n",
    "s(*p)"
   ]
  },
  {
   "cell_type": "code",
   "execution_count": 26,
   "metadata": {},
   "outputs": [
    {
     "name": "stdout",
     "output_type": "stream",
     "text": [
      "Pulkit\n",
      "Rahul\n",
      "Tisha\n",
      "Vaibhav\n",
      "Kamaal\n",
      "Garvita\n"
     ]
    }
   ],
   "source": [
    "def d(**a):\n",
    "    for i in a:\n",
    "        print (a[i])\n",
    "\n",
    "aa={'p':'Pulkit','r':'Rahul','t':'Tisha','v':'Vaibhav','k':'Kamaal','g':'Garvita'}\n",
    "d(**aa)"
   ]
  },
  {
   "cell_type": "code",
   "execution_count": 37,
   "metadata": {},
   "outputs": [
    {
     "name": "stdout",
     "output_type": "stream",
     "text": [
      "657345\n"
     ]
    }
   ],
   "source": [
    "#Write a  function max to find out larrrrrrrgest element in the tuple (note: length of tuple can be variable)\n",
    "def maximum(l,size):\n",
    "    m=0\n",
    "    for i in range(size):\n",
    "        if m<l[i]:\n",
    "            m=l[i]\n",
    "    return m\n",
    "\n",
    "a=[1234,4564,657345,7876,2342,56,97345,236786,45656,234]\n",
    "b=len(a)\n",
    "print(maximum(a,b))"
   ]
  },
  {
   "cell_type": "code",
   "execution_count": 2,
   "metadata": {},
   "outputs": [
    {
     "data": {
      "text/plain": [
       "5"
      ]
     },
     "execution_count": 2,
     "metadata": {},
     "output_type": "execute_result"
    }
   ],
   "source": [
    "def s(a,b):\n",
    "    c=a+b\n",
    "    return c\n",
    "s(2,3)"
   ]
  },
  {
   "cell_type": "code",
   "execution_count": null,
   "metadata": {},
   "outputs": [],
   "source": [
    "L=[1,2,3]\n",
    "6\n"
   ]
  }
 ],
 "metadata": {
  "kernelspec": {
   "display_name": "Python 3",
   "language": "python",
   "name": "python3"
  },
  "language_info": {
   "codemirror_mode": {
    "name": "ipython",
    "version": 3
   },
   "file_extension": ".py",
   "mimetype": "text/x-python",
   "name": "python",
   "nbconvert_exporter": "python",
   "pygments_lexer": "ipython3",
   "version": "3.7.1"
  }
 },
 "nbformat": 4,
 "nbformat_minor": 2
}
